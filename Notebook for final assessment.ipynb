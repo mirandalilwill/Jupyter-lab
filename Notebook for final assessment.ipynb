{
 "cells": [
  {
   "cell_type": "markdown",
   "id": "e58054f6-429f-44d5-bce3-99aa60d045a4",
   "metadata": {},
   "source": [
    "# My Jupyter Notebook"
   ]
  },
  {
   "cell_type": "markdown",
   "id": "b9f33fc5-9f97-49d6-a010-5b25f2910773",
   "metadata": {},
   "source": [
    "**My name is Miranda Williams**\n",
    "and I would like to become a data analyst."
   ]
  },
  {
   "cell_type": "markdown",
   "id": "060c70ec-83d7-41e0-9cf2-2ea78de49c73",
   "metadata": {},
   "source": [
    "*I am interested in data science because I enjoy uncovering the hidden stories that tell of our world, which are often told through analyses of data.*"
   ]
  },
  {
   "cell_type": "markdown",
   "id": "7850d65a-a633-4d25-8a59-a6e9ab036471",
   "metadata": {},
   "source": [
    "### In the following line, I will test the ability to combine operations."
   ]
  },
  {
   "cell_type": "code",
   "execution_count": 1,
   "id": "654675be-9fe4-4c70-9bef-691561f18bbc",
   "metadata": {},
   "outputs": [
    {
     "data": {
      "text/plain": [
       "2.25"
      ]
     },
     "execution_count": 1,
     "metadata": {},
     "output_type": "execute_result"
    }
   ],
   "source": [
    "(2 ** 3 + 1) / 4"
   ]
  },
  {
   "cell_type": "markdown",
   "id": "50ccafae-24a1-4398-9da4-f72a273fdfc7",
   "metadata": {},
   "source": [
    "|the   | world  | at  | large  |\n",
    "|------|:------:|----:|--------|\n",
    "|`why`  isn't| this|a  |~~table~~|"
   ]
  },
  {
   "cell_type": "code",
   "execution_count": null,
   "id": "0035a15e-800b-4915-98c0-569bbe10d562",
   "metadata": {},
   "outputs": [],
   "source": []
  },
  {
   "cell_type": "code",
   "execution_count": null,
   "id": "aa4d25f3-851c-4f4b-aeeb-b552397afc6a",
   "metadata": {},
   "outputs": [],
   "source": []
  }
 ],
 "metadata": {
  "kernelspec": {
   "display_name": "Python",
   "language": "python",
   "name": "conda-env-python-py"
  },
  "language_info": {
   "codemirror_mode": {
    "name": "ipython",
    "version": 3
   },
   "file_extension": ".py",
   "mimetype": "text/x-python",
   "name": "python",
   "nbconvert_exporter": "python",
   "pygments_lexer": "ipython3",
   "version": "3.7.12"
  }
 },
 "nbformat": 4,
 "nbformat_minor": 5
}
